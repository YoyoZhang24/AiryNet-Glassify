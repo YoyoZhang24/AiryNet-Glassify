{
 "cells": [
  {
   "cell_type": "code",
   "execution_count": 1,
   "id": "7a4e6046-d444-4d32-8efa-88c93bea0b86",
   "metadata": {},
   "outputs": [],
   "source": [
    "from __future__ import print_function, division\n",
    "import os\n",
    "import torch\n",
    "import pandas as pd\n",
    "from skimage import io, transform\n",
    "import numpy as np\n",
    "import matplotlib.pyplot as plt\n",
    "from torch.utils.data import Dataset, DataLoader\n",
    "from torchvision import transforms, utils\n",
    "\n",
    "import torchvision.transforms as transforms\n",
    "import torchvision\n",
    "import torch.optim as optim\n",
    "import torch.nn as nn\n",
    "import pandas as pd\n",
    "import numpy as np\n",
    "from datetime import datetime\n",
    "\n",
    "# Ignore warnings\n",
    "import warnings\n",
    "warnings.filterwarnings(\"ignore\")\n",
    "\n",
    "plt.ion()   # interactive mode"
   ]
  },
  {
   "cell_type": "code",
   "execution_count": 2,
   "id": "f0dde794-78bb-4613-85ec-ba0ad957fd42",
   "metadata": {},
   "outputs": [],
   "source": [
    "label_frame = pd.read_csv('LabelTrain.csv')"
   ]
  },
  {
   "cell_type": "code",
   "execution_count": 3,
   "id": "45d704c6-ed0e-4525-ac95-031b6231119f",
   "metadata": {},
   "outputs": [
    {
     "data": {
      "text/html": [
       "<div>\n",
       "<style scoped>\n",
       "    .dataframe tbody tr th:only-of-type {\n",
       "        vertical-align: middle;\n",
       "    }\n",
       "\n",
       "    .dataframe tbody tr th {\n",
       "        vertical-align: top;\n",
       "    }\n",
       "\n",
       "    .dataframe thead th {\n",
       "        text-align: right;\n",
       "    }\n",
       "</style>\n",
       "<table border=\"1\" class=\"dataframe\">\n",
       "  <thead>\n",
       "    <tr style=\"text-align: right;\">\n",
       "      <th></th>\n",
       "      <th>img</th>\n",
       "      <th>label</th>\n",
       "    </tr>\n",
       "  </thead>\n",
       "  <tbody>\n",
       "    <tr>\n",
       "      <th>0</th>\n",
       "      <td>10157840@N03_identity_0@3909066374_1.jpg</td>\n",
       "      <td>0</td>\n",
       "    </tr>\n",
       "    <tr>\n",
       "      <th>1</th>\n",
       "      <td>10175970@N00_identity_38@239770954_1.jpg</td>\n",
       "      <td>0</td>\n",
       "    </tr>\n",
       "    <tr>\n",
       "      <th>2</th>\n",
       "      <td>10175970@N00_identity_38@334572069_0.jpg</td>\n",
       "      <td>0</td>\n",
       "    </tr>\n",
       "    <tr>\n",
       "      <th>3</th>\n",
       "      <td>10175970@N00_identity_38@334574437_1.jpg</td>\n",
       "      <td>0</td>\n",
       "    </tr>\n",
       "    <tr>\n",
       "      <th>4</th>\n",
       "      <td>10175970@N00_identity_38@334599066_0.jpg</td>\n",
       "      <td>0</td>\n",
       "    </tr>\n",
       "  </tbody>\n",
       "</table>\n",
       "</div>"
      ],
      "text/plain": [
       "                                        img  label\n",
       "0  10157840@N03_identity_0@3909066374_1.jpg      0\n",
       "1  10175970@N00_identity_38@239770954_1.jpg      0\n",
       "2  10175970@N00_identity_38@334572069_0.jpg      0\n",
       "3  10175970@N00_identity_38@334574437_1.jpg      0\n",
       "4  10175970@N00_identity_38@334599066_0.jpg      0"
      ]
     },
     "execution_count": 3,
     "metadata": {},
     "output_type": "execute_result"
    }
   ],
   "source": [
    "label_frame.head()"
   ]
  },
  {
   "cell_type": "code",
   "execution_count": 4,
   "id": "416dbda5-58e6-4067-8fcf-08c1b1240701",
   "metadata": {},
   "outputs": [],
   "source": [
    "class Dataset(Dataset):\n",
    "\n",
    "    def __init__(self, csv_file, root_dir, transform=None):\n",
    "        \"\"\"\n",
    "        Args:\n",
    "            csv_file (string): Path to the csv file with annotations.\n",
    "            root_dir (string): Directory with all the images.\n",
    "            transform (callable, optional): Optional transform to be applied\n",
    "                on a sample.\n",
    "        \"\"\"\n",
    "        self.lable_frame = pd.read_csv(csv_file)\n",
    "        self.root_dir = root_dir\n",
    "        self.transform = transform\n",
    "\n",
    "    def __len__(self):\n",
    "        return len(self.lable_frame)\n",
    "\n",
    "    def __getitem__(self, idx):\n",
    "        if torch.is_tensor(idx):\n",
    "            idx = idx.tolist()\n",
    "\n",
    "        img_name = os.path.join(self.root_dir,\n",
    "                                self.lable_frame.iloc[idx, 0])\n",
    "        image = io.imread(img_name)\n",
    "        label = self.lable_frame.iloc[idx, 1]\n",
    "        label = np.array(label)\n",
    "        label = label.astype('int').reshape(1)\n",
    "        sample = {'image': image, 'label': label}\n",
    "\n",
    "        if self.transform:\n",
    "            sample = self.transform(sample)\n",
    "\n",
    "        return sample"
   ]
  },
  {
   "cell_type": "code",
   "execution_count": 5,
   "id": "89a8dca7-057a-435d-8830-e6e6e45641b1",
   "metadata": {},
   "outputs": [
    {
     "name": "stdout",
     "output_type": "stream",
     "text": [
      "0 (120, 120, 3) (1,)\n",
      "1 (120, 120, 3) (1,)\n",
      "2 (120, 120, 3) (1,)\n",
      "3 (120, 120, 3) (1,)\n",
      "4 (120, 120, 3) (1,)\n",
      "5 (120, 120, 3) (1,)\n"
     ]
    }
   ],
   "source": [
    "face_dataset = Dataset(csv_file='LabelTrain.csv',\n",
    "                        root_dir=r'C:\\Users\\11507\\Desktop\\X Academy 2021\\MeGlass_120x120\\MeGlass_120x120\\Without/Train')\n",
    "\n",
    "for i in range(len(face_dataset)):\n",
    "    sample = face_dataset[i]\n",
    "    print(i, sample['image'].shape, sample['label'].shape)\n",
    "    if i == 5:\n",
    "        break"
   ]
  },
  {
   "cell_type": "code",
   "execution_count": 6,
   "id": "fb97b5e7-6c42-45d9-bb0a-9c6ac0bf0e63",
   "metadata": {},
   "outputs": [
    {
     "name": "stdout",
     "output_type": "stream",
     "text": [
      "0 (120, 120, 3) (1,)\n",
      "1 (120, 120, 3) (1,)\n",
      "2 (120, 120, 3) (1,)\n",
      "3 (120, 120, 3) (1,)\n",
      "4 (120, 120, 3) (1,)\n",
      "5 (120, 120, 3) (1,)\n"
     ]
    }
   ],
   "source": [
    "val_dataset = Dataset(csv_file='LabelVal.csv',\n",
    "                        root_dir=r'C:\\Users\\11507\\Desktop\\X Academy 2021\\MeGlass_120x120\\MeGlass_120x120\\Without/Train')\n",
    "\n",
    "for i in range(len(face_dataset)):\n",
    "    sample = face_dataset[i]\n",
    "    print(i, sample['image'].shape, sample['label'].shape)\n",
    "    if i == 5:\n",
    "        break"
   ]
  },
  {
   "cell_type": "code",
   "execution_count": 7,
   "id": "84f1a3ff-7fee-428d-b7ee-646c27bac2fe",
   "metadata": {},
   "outputs": [],
   "source": [
    "# tsfm = Transform(params)\n",
    "# transformed_sample = tsfm(sample)"
   ]
  },
  {
   "cell_type": "code",
   "execution_count": 8,
   "id": "c5133625-49e7-4a17-a69d-ac08ccf4b9df",
   "metadata": {},
   "outputs": [],
   "source": [
    "class ToTensor(object):\n",
    "    \"\"\"Convert ndarrays in sample to Tensors.\"\"\"\n",
    "    def __call__(self, sample):\n",
    "        image, label = sample['image'], sample['label']\n",
    "        # swap color axis because\n",
    "        # numpy image: H x W x C\n",
    "        # torch image: C x H x W\n",
    "        image = image.transpose((2, 0, 1))\n",
    "        return {'image': torch.from_numpy(image),\n",
    "                'label': torch.from_numpy(label)}\n"
   ]
  },
  {
   "cell_type": "code",
   "execution_count": 9,
   "id": "24170792-795d-4ef6-86f6-5d11ef9b2e7f",
   "metadata": {},
   "outputs": [],
   "source": [
    "import torchvision.transforms as transforms"
   ]
  },
  {
   "cell_type": "code",
   "execution_count": 10,
   "id": "6d776afd-3713-44f5-b7b5-f49c6601b5ba",
   "metadata": {},
   "outputs": [
    {
     "name": "stdout",
     "output_type": "stream",
     "text": [
      "0 torch.Size([3, 120, 120]) torch.Size([1])\n",
      "1 torch.Size([3, 120, 120]) torch.Size([1])\n",
      "2 torch.Size([3, 120, 120]) torch.Size([1])\n",
      "3 torch.Size([3, 120, 120]) torch.Size([1])\n"
     ]
    }
   ],
   "source": [
    "transformed_dataset = Dataset(csv_file='LabelTrain.csv',\n",
    "                        root_dir=r'C:\\Users\\11507\\Desktop\\X Academy 2021\\MeGlass_120x120\\MeGlass_120x120\\Without/Train',\n",
    "                        transform=ToTensor())\n",
    "for i in range(len(transformed_dataset)):\n",
    "    sample = transformed_dataset[i]\n",
    "\n",
    "    print(i, sample['image'].size(), sample['label'].size())\n",
    "\n",
    "    if i == 3:\n",
    "        break"
   ]
  },
  {
   "cell_type": "code",
   "execution_count": 11,
   "id": "b1975c99-d2d3-4f9c-a742-3e09e3962be0",
   "metadata": {},
   "outputs": [
    {
     "name": "stdout",
     "output_type": "stream",
     "text": [
      "0 torch.Size([3, 120, 120]) torch.Size([1])\n",
      "1 torch.Size([3, 120, 120]) torch.Size([1])\n",
      "2 torch.Size([3, 120, 120]) torch.Size([1])\n",
      "3 torch.Size([3, 120, 120]) torch.Size([1])\n",
      "2511\n"
     ]
    }
   ],
   "source": [
    "transformedval_dataset = Dataset(csv_file='LabelVal.csv',\n",
    "                        root_dir=r'C:\\Users\\11507\\Desktop\\X Academy 2021\\MeGlass_120x120\\MeGlass_120x120\\Without/validation',\n",
    "                        transform=ToTensor())\n",
    "for i in range(len(transformedval_dataset)):\n",
    "    sample = transformedval_dataset[i]\n",
    "\n",
    "    print(i, sample['image'].size(), sample['label'].size())\n",
    "\n",
    "    if i == 3:\n",
    "        break\n",
    "print(len(transformedval_dataset))"
   ]
  },
  {
   "cell_type": "code",
   "execution_count": null,
   "id": "ebc42ca4-4651-426b-b578-54b839547a44",
   "metadata": {},
   "outputs": [],
   "source": []
  },
  {
   "cell_type": "code",
   "execution_count": null,
   "id": "4330a7fd-d622-423c-b903-b56f84fc4fdf",
   "metadata": {},
   "outputs": [],
   "source": []
  },
  {
   "cell_type": "code",
   "execution_count": 12,
   "id": "6ab7bdb7-9f3c-4d8e-abe2-25b1ea60d8e1",
   "metadata": {},
   "outputs": [],
   "source": [
    "trainset = transformed_dataset\n",
    "trainloader = DataLoader(trainset , batch_size=64,\n",
    "                        shuffle=True, num_workers=0)\n",
    "testset = transformedval_dataset\n",
    "testloader = DataLoader(testset , batch_size=32,\n",
    "                        shuffle=False, num_workers=0)\n",
    "classes = ('big', 'small')"
   ]
  },
  {
   "cell_type": "code",
   "execution_count": 13,
   "id": "5df91707-6bbe-44a1-b2d5-b154230dc457",
   "metadata": {},
   "outputs": [
    {
     "name": "stdout",
     "output_type": "stream",
     "text": [
      "using CPU, if you are in colab, please change the setting in Runtime/changeRuntimeType to GPU\n"
     ]
    }
   ],
   "source": [
    "if torch.cuda.is_available():\n",
    "    print('using GPU, all good')\n",
    "    device = torch.device('cuda:0')\n",
    "else:\n",
    "    print('using CPU, if you are in colab, please change the '\n",
    "          'setting in Runtime/changeRuntimeType to GPU')\n",
    "    device = torch.device('cpu')"
   ]
  },
  {
   "cell_type": "code",
   "execution_count": 14,
   "id": "37c7dfa3-a6d4-4ae9-9d2e-18765069e111",
   "metadata": {},
   "outputs": [],
   "source": [
    "class yoyoBSModule(nn.Module):\n",
    "    def __init__(self):\n",
    "        super().__init__()\n",
    "        self.conv1 = nn.Conv2d(3, 96, 11, padding=5)\n",
    "        self.conv2 = nn.Conv2d(96, 256, 5, padding=2)\n",
    "        self.pool = nn.MaxPool2d(2)\n",
    "        self.conv3 = nn.Conv2d(256, 384, 3, padding=1)\n",
    "        self.conv4 = nn.Conv2d(384, 384, 3, padding=1)\n",
    "        self.conv5 = nn.Conv2d(384, 256, 3, padding=1)\n",
    "        self.fc6 = nn.Linear(4096, 4096)\n",
    "        self.fc7 = nn.Linear(4096, 1000)\n",
    "        self.fc8 = nn.Linear(1000, 2)\n",
    "        self.flatten = nn.Flatten()\n",
    "        self.softmax = nn.Softmax(dim =1)\n",
    "        self.ReLU = nn.ReLU()\n",
    "\n",
    "    def forward(self, x):\n",
    "        # x shape (B, 3, 120, 120)\n",
    "        x = self.conv1(x) # (B, 96, 120, 120)\n",
    "        x = self.ReLU(x)\n",
    "        x = self.conv2(x) # (B, 256, 120, 120)\n",
    "        x = self.ReLU(x)\n",
    "        x = self.pool(x) # (B, 256, 60, 60)\n",
    "        x = self.conv3(x)\n",
    "        x = self.ReLU(x)\n",
    "        x = self.pool(x)\n",
    "        x = self.conv4(x)\n",
    "        x = self.ReLU(x)\n",
    "        x = self.conv5(x)\n",
    "        x = self.ReLU(x)\n",
    "        x = self.pool(x)\n",
    "        x = self.flatten(x)\n",
    "        x = self.fc6(x)\n",
    "        x = self.ReLU(x)\n",
    "        x = self.fc7(x)\n",
    "        x = self.ReLU(x)\n",
    "        x = self.fc8(x)\n",
    "        return x"
   ]
  },
  {
   "cell_type": "code",
   "execution_count": 15,
   "id": "555b24b0-95af-48cf-87f8-291995d499fa",
   "metadata": {},
   "outputs": [],
   "source": [
    "for i, data in enumerate(trainloader, 0):\n",
    "    input, labels = data['image'], data['label']\n",
    "   # print(labels)"
   ]
  },
  {
   "cell_type": "code",
   "execution_count": null,
   "id": "1db00d26-7c5a-4b79-bf78-913859ca598e",
   "metadata": {},
   "outputs": [],
   "source": [
    "def train(args, model, train_loader, test_loader):\n",
    "    print(f'now training with {args}')\n",
    "    model = model.to(device)\n",
    "    optimizer = optim.SGD(model.parameters(), lr=args['learning_rate'],\n",
    "                          momentum=0.9, weight_decay=args['l2'])\n",
    "    criterion = nn.CrossEntropyLoss()\n",
    "\n",
    "    df = pd.DataFrame()\n",
    "    last_time = datetime.now()\n",
    "    for epoch in range(args['total_epoch']):\n",
    "        training_loss = test_loss = 0\n",
    "        training_acc = test_acc = 0\n",
    "        model.train()\n",
    "        for i, data in enumerate(trainloader, 0):\n",
    "            inputs, labels = data\n",
    "            # move the tensors to gpu if we are using it\n",
    "            # data loading happens in cpu so the tensors were there initially\n",
    "            inputs, labels = inputs.to(device), labels.to(device)\n",
    "            optimizer.zero_grad()\n",
    "            outputs = model(inputs)\n",
    "            loss = criterion(outputs, labels)\n",
    "            loss.backward()\n",
    "            optimizer.step()\n",
    "            # calculate stats\n",
    "            training_loss += loss.item()\n",
    "            _, prediceted = torch.max(outputs.data, 1)\n",
    "            training_acc += (prediceted==labels).sum().item()\n",
    "\n",
    "        # evaluate the model on validation set\n",
    "\n",
    "        with torch.no_grad():\n",
    "            model.eval()\n",
    "            for i, data in enumerate(testloader, 0):\n",
    "                inputs, labels = data\n",
    "                inputs, labels = inputs.to(device), labels.to(device)\n",
    "                outputs = model(inputs)\n",
    "                loss = criterion(outputs, labels)\n",
    "                # calculate stats\n",
    "                test_loss += loss.item()\n",
    "                _, prediceted = torch.max(outputs.data, 1)\n",
    "                test_acc += (prediceted == labels).sum().item()\n",
    "\n",
    "        training_loss /= len(trainloader)\n",
    "        training_acc /= len(trainset)\n",
    "        test_loss /= len(testloader)\n",
    "        test_acc /= len(testset)\n",
    "        data = {\n",
    "            'epoch':epoch,\n",
    "            'training_loss': training_loss,\n",
    "            'training_acc': training_acc,\n",
    "            'test_loss': test_loss,\n",
    "            'test_acc':test_acc,\n",
    "            'time': (datetime.now()-last_time).total_seconds()\n",
    "        }\n",
    "        print(data)\n",
    "        df = df.append(data, ignore_index=True)\n",
    "        last_time = datetime.now()\n",
    "    return model, df\n",
    "\n"
   ]
  },
  {
   "cell_type": "code",
   "execution_count": null,
   "id": "aaccbcdf-1a1e-42ce-ab3d-ca9cd474162a",
   "metadata": {},
   "outputs": [],
   "source": [
    "args = {\n",
    "    'learning_rate': 1e-2,\n",
    "    'total_epoch': 12,\n",
    "    'l2': 0,\n",
    "}\n",
    "\n",
    "# run it!\n",
    "model = yoyoBSModule()\n",
    "model, data = train(args, model, trainloader, testloader)\n",
    "data.plot('epoch', ['training_loss', 'test_loss'])"
   ]
  },
  {
   "cell_type": "code",
   "execution_count": null,
   "id": "004cbb57-17f9-4b28-ab6e-4c698ee812dc",
   "metadata": {},
   "outputs": [],
   "source": []
  },
  {
   "cell_type": "code",
   "execution_count": null,
   "id": "63f0ccff-e900-4c7e-b9c2-237919c1d979",
   "metadata": {},
   "outputs": [],
   "source": []
  },
  {
   "cell_type": "code",
   "execution_count": null,
   "id": "5cc17d74-b782-480a-a3b9-080f7fd64786",
   "metadata": {},
   "outputs": [],
   "source": []
  }
 ],
 "metadata": {
  "kernelspec": {
   "display_name": "Python 3",
   "language": "python",
   "name": "python3"
  },
  "language_info": {
   "codemirror_mode": {
    "name": "ipython",
    "version": 3
   },
   "file_extension": ".py",
   "mimetype": "text/x-python",
   "name": "python",
   "nbconvert_exporter": "python",
   "pygments_lexer": "ipython3",
   "version": "3.8.8"
  }
 },
 "nbformat": 4,
 "nbformat_minor": 5
}
