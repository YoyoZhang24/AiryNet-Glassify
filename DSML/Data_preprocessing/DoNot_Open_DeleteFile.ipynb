{
 "cells": [
  {
   "cell_type": "code",
   "execution_count": 61,
   "id": "4c846355-113e-4904-8ef7-859a5a701c07",
   "metadata": {},
   "outputs": [
    {
     "data": {
      "text/plain": [
       "list"
      ]
     },
     "execution_count": 61,
     "metadata": {},
     "output_type": "execute_result"
    }
   ],
   "source": [
    "# Data removal\n",
    "from os import listdir\n",
    "from os.path import isfile, join\n",
    "path = r\"C:\\Users\\11507\\Desktop\\X Academy 2021\\MeGlass_120x120\\MeGlass_120x120/Without/validation\"\n",
    "onlyfiles = [f for f in listdir(path) if isfile(join(path, f))]\n",
    "type(onlyfiles)"
   ]
  },
  {
   "cell_type": "code",
   "execution_count": 62,
   "id": "c5c1cbc2-2c99-43ef-afc8-e0ec2ad2bc4b",
   "metadata": {},
   "outputs": [],
   "source": [
    "from pandas import DataFrame\n",
    "list = onlyfiles\n",
    "dffilename = DataFrame (onlyfiles,columns=['file'])"
   ]
  },
  {
   "cell_type": "code",
   "execution_count": 63,
   "id": "8f3fc960-1927-407b-86ba-51e9e86f1394",
   "metadata": {},
   "outputs": [
    {
     "data": {
      "text/html": [
       "<div>\n",
       "<style scoped>\n",
       "    .dataframe tbody tr th:only-of-type {\n",
       "        vertical-align: middle;\n",
       "    }\n",
       "\n",
       "    .dataframe tbody tr th {\n",
       "        vertical-align: top;\n",
       "    }\n",
       "\n",
       "    .dataframe thead th {\n",
       "        text-align: right;\n",
       "    }\n",
       "</style>\n",
       "<table border=\"1\" class=\"dataframe\">\n",
       "  <thead>\n",
       "    <tr style=\"text-align: right;\">\n",
       "      <th></th>\n",
       "      <th>file</th>\n",
       "    </tr>\n",
       "  </thead>\n",
       "  <tbody>\n",
       "    <tr>\n",
       "      <th>0</th>\n",
       "      <td>108207546@N07_identity_3@12582048654_1.jpg</td>\n",
       "    </tr>\n",
       "    <tr>\n",
       "      <th>1</th>\n",
       "      <td>108207546@N07_identity_3@12582120514_0.jpg</td>\n",
       "    </tr>\n",
       "    <tr>\n",
       "      <th>2</th>\n",
       "      <td>110433537@N03_identity_56@14042984112_0.jpg</td>\n",
       "    </tr>\n",
       "    <tr>\n",
       "      <th>3</th>\n",
       "      <td>110433537@N03_identity_56@14046302275_0.jpg</td>\n",
       "    </tr>\n",
       "    <tr>\n",
       "      <th>4</th>\n",
       "      <td>110433537@N03_identity_56@14046697684_4.jpg</td>\n",
       "    </tr>\n",
       "    <tr>\n",
       "      <th>...</th>\n",
       "      <td>...</td>\n",
       "    </tr>\n",
       "    <tr>\n",
       "      <th>2510</th>\n",
       "      <td>99962592@N00_identity_43@2300941862_0.jpg</td>\n",
       "    </tr>\n",
       "    <tr>\n",
       "      <th>2511</th>\n",
       "      <td>99962592@N00_identity_43@809807340_0.jpg</td>\n",
       "    </tr>\n",
       "    <tr>\n",
       "      <th>2512</th>\n",
       "      <td>99962592@N00_identity_43@809808190_0.jpg</td>\n",
       "    </tr>\n",
       "    <tr>\n",
       "      <th>2513</th>\n",
       "      <td>99974871@N00_identity_11@4945552563_0.jpg</td>\n",
       "    </tr>\n",
       "    <tr>\n",
       "      <th>2514</th>\n",
       "      <td>99974871@N00_identity_11@953775062_2.jpg</td>\n",
       "    </tr>\n",
       "  </tbody>\n",
       "</table>\n",
       "<p>2515 rows × 1 columns</p>\n",
       "</div>"
      ],
      "text/plain": [
       "                                             file\n",
       "0      108207546@N07_identity_3@12582048654_1.jpg\n",
       "1      108207546@N07_identity_3@12582120514_0.jpg\n",
       "2     110433537@N03_identity_56@14042984112_0.jpg\n",
       "3     110433537@N03_identity_56@14046302275_0.jpg\n",
       "4     110433537@N03_identity_56@14046697684_4.jpg\n",
       "...                                           ...\n",
       "2510    99962592@N00_identity_43@2300941862_0.jpg\n",
       "2511     99962592@N00_identity_43@809807340_0.jpg\n",
       "2512     99962592@N00_identity_43@809808190_0.jpg\n",
       "2513    99974871@N00_identity_11@4945552563_0.jpg\n",
       "2514     99974871@N00_identity_11@953775062_2.jpg\n",
       "\n",
       "[2515 rows x 1 columns]"
      ]
     },
     "execution_count": 63,
     "metadata": {},
     "output_type": "execute_result"
    }
   ],
   "source": [
    "dffilename"
   ]
  },
  {
   "cell_type": "code",
   "execution_count": 64,
   "id": "e26b1725-98af-43c3-82c8-99d01f7fc4c8",
   "metadata": {},
   "outputs": [],
   "source": [
    "import pandas as pd\n",
    "path1 = r\"C:\\Users\\11507\\Desktop\\X Academy 2021\\MeGlass_120x120\\MeGlass_120x120/final.csv\"\n",
    "dffinal = pd.read_csv(path1)"
   ]
  },
  {
   "cell_type": "code",
   "execution_count": 65,
   "id": "8c8e48df-3fc8-4e9b-9a6a-b221a1fc0cf1",
   "metadata": {},
   "outputs": [
    {
     "data": {
      "text/html": [
       "<div>\n",
       "<style scoped>\n",
       "    .dataframe tbody tr th:only-of-type {\n",
       "        vertical-align: middle;\n",
       "    }\n",
       "\n",
       "    .dataframe tbody tr th {\n",
       "        vertical-align: top;\n",
       "    }\n",
       "\n",
       "    .dataframe thead th {\n",
       "        text-align: right;\n",
       "    }\n",
       "</style>\n",
       "<table border=\"1\" class=\"dataframe\">\n",
       "  <thead>\n",
       "    <tr style=\"text-align: right;\">\n",
       "      <th></th>\n",
       "      <th>img</th>\n",
       "      <th>label</th>\n",
       "    </tr>\n",
       "  </thead>\n",
       "  <tbody>\n",
       "    <tr>\n",
       "      <th>0</th>\n",
       "      <td>10032527@N08_identity_4@2582182573_0.jpg</td>\n",
       "      <td>0.0</td>\n",
       "    </tr>\n",
       "    <tr>\n",
       "      <th>1</th>\n",
       "      <td>10032527@N08_identity_4@2582191559_0.jpg</td>\n",
       "      <td>0.0</td>\n",
       "    </tr>\n",
       "    <tr>\n",
       "      <th>2</th>\n",
       "      <td>10032527@N08_identity_4@2582274191_0.jpg</td>\n",
       "      <td>0.0</td>\n",
       "    </tr>\n",
       "    <tr>\n",
       "      <th>3</th>\n",
       "      <td>10032527@N08_identity_4@2583119706_0.jpg</td>\n",
       "      <td>0.0</td>\n",
       "    </tr>\n",
       "    <tr>\n",
       "      <th>4</th>\n",
       "      <td>10032527@N08_identity_4@2590796978_0.jpg</td>\n",
       "      <td>0.0</td>\n",
       "    </tr>\n",
       "    <tr>\n",
       "      <th>...</th>\n",
       "      <td>...</td>\n",
       "      <td>...</td>\n",
       "    </tr>\n",
       "    <tr>\n",
       "      <th>11001</th>\n",
       "      <td>99962592@N00_identity_43@2300941862_0.jpg</td>\n",
       "      <td>0.0</td>\n",
       "    </tr>\n",
       "    <tr>\n",
       "      <th>11002</th>\n",
       "      <td>99962592@N00_identity_43@809807340_0.jpg</td>\n",
       "      <td>0.0</td>\n",
       "    </tr>\n",
       "    <tr>\n",
       "      <th>11003</th>\n",
       "      <td>99962592@N00_identity_43@809808190_0.jpg</td>\n",
       "      <td>0.0</td>\n",
       "    </tr>\n",
       "    <tr>\n",
       "      <th>11004</th>\n",
       "      <td>99974871@N00_identity_11@4945552563_0.jpg</td>\n",
       "      <td>0.0</td>\n",
       "    </tr>\n",
       "    <tr>\n",
       "      <th>11005</th>\n",
       "      <td>99974871@N00_identity_11@953775062_2.jpg</td>\n",
       "      <td>0.0</td>\n",
       "    </tr>\n",
       "  </tbody>\n",
       "</table>\n",
       "<p>11006 rows × 2 columns</p>\n",
       "</div>"
      ],
      "text/plain": [
       "                                             img  label\n",
       "0       10032527@N08_identity_4@2582182573_0.jpg    0.0\n",
       "1       10032527@N08_identity_4@2582191559_0.jpg    0.0\n",
       "2       10032527@N08_identity_4@2582274191_0.jpg    0.0\n",
       "3       10032527@N08_identity_4@2583119706_0.jpg    0.0\n",
       "4       10032527@N08_identity_4@2590796978_0.jpg    0.0\n",
       "...                                          ...    ...\n",
       "11001  99962592@N00_identity_43@2300941862_0.jpg    0.0\n",
       "11002   99962592@N00_identity_43@809807340_0.jpg    0.0\n",
       "11003   99962592@N00_identity_43@809808190_0.jpg    0.0\n",
       "11004  99974871@N00_identity_11@4945552563_0.jpg    0.0\n",
       "11005   99974871@N00_identity_11@953775062_2.jpg    0.0\n",
       "\n",
       "[11006 rows x 2 columns]"
      ]
     },
     "execution_count": 65,
     "metadata": {},
     "output_type": "execute_result"
    }
   ],
   "source": [
    "dffinal"
   ]
  },
  {
   "cell_type": "code",
   "execution_count": 68,
   "id": "0b0ed5ec-3c5d-41bd-a8a4-f0a5331ce2e1",
   "metadata": {},
   "outputs": [],
   "source": [
    "dffilename_filter = dffilename[~ dffilename['file'].isin(dffinal['img'])]\n",
    "\n",
    "#dffilename_filter2 = dffinal[~ dffinal['img'].isin(dffilename['file'])]"
   ]
  },
  {
   "cell_type": "code",
   "execution_count": 67,
   "id": "9ce9a3c4-f882-4d44-bc2e-9f272b921e3c",
   "metadata": {},
   "outputs": [
    {
     "data": {
      "text/html": [
       "<div>\n",
       "<style scoped>\n",
       "    .dataframe tbody tr th:only-of-type {\n",
       "        vertical-align: middle;\n",
       "    }\n",
       "\n",
       "    .dataframe tbody tr th {\n",
       "        vertical-align: top;\n",
       "    }\n",
       "\n",
       "    .dataframe thead th {\n",
       "        text-align: right;\n",
       "    }\n",
       "</style>\n",
       "<table border=\"1\" class=\"dataframe\">\n",
       "  <thead>\n",
       "    <tr style=\"text-align: right;\">\n",
       "      <th></th>\n",
       "      <th>file</th>\n",
       "    </tr>\n",
       "  </thead>\n",
       "  <tbody>\n",
       "    <tr>\n",
       "      <th>1599</th>\n",
       "      <td>96552496@N00_identity_1@803449023_1.jpg</td>\n",
       "    </tr>\n",
       "    <tr>\n",
       "      <th>1600</th>\n",
       "      <td>96552496@N00_identity_1@803666417_1.jpg</td>\n",
       "    </tr>\n",
       "    <tr>\n",
       "      <th>2060</th>\n",
       "      <td>98551956@N00_identity_1@7591679266_1.jpg</td>\n",
       "    </tr>\n",
       "    <tr>\n",
       "      <th>2078</th>\n",
       "      <td>98642193@N00_identity_0@1176724019_1.jpg</td>\n",
       "    </tr>\n",
       "  </tbody>\n",
       "</table>\n",
       "</div>"
      ],
      "text/plain": [
       "                                          file\n",
       "1599   96552496@N00_identity_1@803449023_1.jpg\n",
       "1600   96552496@N00_identity_1@803666417_1.jpg\n",
       "2060  98551956@N00_identity_1@7591679266_1.jpg\n",
       "2078  98642193@N00_identity_0@1176724019_1.jpg"
      ]
     },
     "execution_count": 67,
     "metadata": {},
     "output_type": "execute_result"
    }
   ],
   "source": [
    "dffilename_filter"
   ]
  },
  {
   "cell_type": "code",
   "execution_count": 70,
   "id": "58965869-8042-4d98-a870-a49e3fd50aeb",
   "metadata": {},
   "outputs": [
    {
     "name": "stdout",
     "output_type": "stream",
     "text": [
      "96552496@N00_identity_1@803449023_1.jpg\n",
      "96552496@N00_identity_1@803666417_1.jpg\n",
      "98551956@N00_identity_1@7591679266_1.jpg\n",
      "98642193@N00_identity_0@1176724019_1.jpg\n"
     ]
    }
   ],
   "source": [
    "#  for i in range(4):\n",
    "#      print(dffilename_filter.iloc[i][0])\n",
    "#      os.remove(r\"C:\\Users\\11507\\Desktop\\X Academy 2021\\MeGlass_120x120\\MeGlass_120x120/Without/validation\"+ '/' + dffilename_filter.iloc[i][0])"
   ]
  },
  {
   "cell_type": "code",
   "execution_count": null,
   "id": "d21bd067-660a-42de-9a49-ee94fa645ec9",
   "metadata": {},
   "outputs": [],
   "source": []
  },
  {
   "cell_type": "code",
   "execution_count": null,
   "id": "f536a3e4-f124-4a7d-918e-fa7f4c020500",
   "metadata": {},
   "outputs": [],
   "source": []
  },
  {
   "cell_type": "code",
   "execution_count": null,
   "id": "e965a036-3898-4d96-9f89-e40900f5a886",
   "metadata": {},
   "outputs": [],
   "source": []
  }
 ],
 "metadata": {
  "kernelspec": {
   "display_name": "Python 3",
   "language": "python",
   "name": "python3"
  },
  "language_info": {
   "codemirror_mode": {
    "name": "ipython",
    "version": 3
   },
   "file_extension": ".py",
   "mimetype": "text/x-python",
   "name": "python",
   "nbconvert_exporter": "python",
   "pygments_lexer": "ipython3",
   "version": "3.8.8"
  }
 },
 "nbformat": 4,
 "nbformat_minor": 5
}
