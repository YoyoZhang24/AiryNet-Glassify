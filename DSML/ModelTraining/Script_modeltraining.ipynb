{
  "nbformat": 4,
  "nbformat_minor": 5,
  "metadata": {
    "kernelspec": {
      "display_name": "Python 3",
      "language": "python",
      "name": "python3"
    },
    "language_info": {
      "codemirror_mode": {
        "name": "ipython",
        "version": 3
      },
      "file_extension": ".py",
      "mimetype": "text/x-python",
      "name": "python",
      "nbconvert_exporter": "python",
      "pygments_lexer": "ipython3",
      "version": "3.8.8"
    },
    "colab": {
      "name": "“简化模型（yoyo）”的副本",
      "provenance": [],
      "collapsed_sections": []
    },
    "accelerator": "GPU"
  },
  "cells": [
    {
      "cell_type": "code",
      "metadata": {
        "id": "7a4e6046-d444-4d32-8efa-88c93bea0b86"
      },
      "source": [
        "from __future__ import print_function, division\n",
        "import os\n",
        "import torch\n",
        "import pandas as pd\n",
        "from skimage import io, transform\n",
        "import numpy as np\n",
        "import matplotlib.pyplot as plt\n",
        "from torch.utils.data import Dataset, DataLoader\n",
        "from torchvision import transforms, utils\n",
        "import torchvision.transforms as transforms\n",
        "import torchvision\n",
        "import torch.optim as optim\n",
        "import torch.nn as nn\n",
        "import pandas as pd\n",
        "import numpy as np\n",
        "from datetime import datetime\n",
        "\n",
        "# Ignore warnings\n",
        "import warnings\n",
        "warnings.filterwarnings(\"ignore\")\n",
        "\n",
        "plt.ion()   # interactive mode"
      ],
      "id": "7a4e6046-d444-4d32-8efa-88c93bea0b86",
      "execution_count": null,
      "outputs": []
    },
    {
      "cell_type": "code",
      "metadata": {
        "id": "f0dde794-78bb-4613-85ec-ba0ad957fd42"
      },
      "source": [
        "label_frame = pd.read_csv('/content/drive/MyDrive/Second/LabelTrain2.csv')"
      ],
      "id": "f0dde794-78bb-4613-85ec-ba0ad957fd42",
      "execution_count": null,
      "outputs": []
    },
    {
      "cell_type": "code",
      "metadata": {
        "colab": {
          "base_uri": "https://localhost:8080/"
        },
        "id": "Kq7PvivZPdRc",
        "outputId": "5f2dcc4e-f406-4041-d0d2-3a885a32d02e"
      },
      "source": [
        "from google.colab import drive\n",
        "drive.mount('/content/drive')"
      ],
      "id": "Kq7PvivZPdRc",
      "execution_count": null,
      "outputs": [
        {
          "output_type": "stream",
          "text": [
            "Drive already mounted at /content/drive; to attempt to forcibly remount, call drive.mount(\"/content/drive\", force_remount=True).\n"
          ],
          "name": "stdout"
        }
      ]
    },
    {
      "cell_type": "code",
      "metadata": {
        "colab": {
          "base_uri": "https://localhost:8080/",
          "height": 206
        },
        "id": "45d704c6-ed0e-4525-ac95-031b6231119f",
        "outputId": "3f517645-4650-4e90-ffe1-3bcd1cf0886a"
      },
      "source": [
        "label_frame.head()"
      ],
      "id": "45d704c6-ed0e-4525-ac95-031b6231119f",
      "execution_count": null,
      "outputs": [
        {
          "output_type": "execute_result",
          "data": {
            "text/html": [
              "<div>\n",
              "<style scoped>\n",
              "    .dataframe tbody tr th:only-of-type {\n",
              "        vertical-align: middle;\n",
              "    }\n",
              "\n",
              "    .dataframe tbody tr th {\n",
              "        vertical-align: top;\n",
              "    }\n",
              "\n",
              "    .dataframe thead th {\n",
              "        text-align: right;\n",
              "    }\n",
              "</style>\n",
              "<table border=\"1\" class=\"dataframe\">\n",
              "  <thead>\n",
              "    <tr style=\"text-align: right;\">\n",
              "      <th></th>\n",
              "      <th>image</th>\n",
              "      <th>label</th>\n",
              "    </tr>\n",
              "  </thead>\n",
              "  <tbody>\n",
              "    <tr>\n",
              "      <th>0</th>\n",
              "      <td>22928590@N00_identity_1@4699397735_0.jpg</td>\n",
              "      <td>0</td>\n",
              "    </tr>\n",
              "    <tr>\n",
              "      <th>1</th>\n",
              "      <td>22928590@N00_identity_1@4699546413_0.jpg</td>\n",
              "      <td>0</td>\n",
              "    </tr>\n",
              "    <tr>\n",
              "      <th>2</th>\n",
              "      <td>22928590@N00_identity_1@4699549267_0.jpg</td>\n",
              "      <td>0</td>\n",
              "    </tr>\n",
              "    <tr>\n",
              "      <th>3</th>\n",
              "      <td>22928590@N00_identity_1@4700282196_0.jpg</td>\n",
              "      <td>0</td>\n",
              "    </tr>\n",
              "    <tr>\n",
              "      <th>4</th>\n",
              "      <td>23924561@N00_identity_9@1350742519_0.jpg</td>\n",
              "      <td>0</td>\n",
              "    </tr>\n",
              "  </tbody>\n",
              "</table>\n",
              "</div>"
            ],
            "text/plain": [
              "                                      image  label\n",
              "0  22928590@N00_identity_1@4699397735_0.jpg      0\n",
              "1  22928590@N00_identity_1@4699546413_0.jpg      0\n",
              "2  22928590@N00_identity_1@4699549267_0.jpg      0\n",
              "3  22928590@N00_identity_1@4700282196_0.jpg      0\n",
              "4  23924561@N00_identity_9@1350742519_0.jpg      0"
            ]
          },
          "metadata": {
            "tags": []
          },
          "execution_count": 4
        }
      ]
    },
    {
      "cell_type": "code",
      "metadata": {
        "id": "416dbda5-58e6-4067-8fcf-08c1b1240701"
      },
      "source": [
        "class Dataset(Dataset):\n",
        "\n",
        "    def __init__(self, csv_file, root_dir, transform=None):\n",
        "        \"\"\"\n",
        "        Args:\n",
        "            csv_file (string): Path to the csv file with annotations.\n",
        "            root_dir (string): Directory with all the images.\n",
        "            transform (callable, optional): Optional transform to be applied\n",
        "                on a sample.\n",
        "        \"\"\"\n",
        "        self.lable_frame = pd.read_csv(csv_file)\n",
        "        self.root_dir = root_dir\n",
        "        self.transform = transform\n",
        "\n",
        "    def __len__(self):\n",
        "        return len(self.lable_frame)\n",
        "\n",
        "    def __getitem__(self, idx):\n",
        "        if torch.is_tensor(idx):\n",
        "            idx = idx.tolist()\n",
        "\n",
        "        \n",
        "        img_name = os.path.join(self.root_dir,self.lable_frame.iloc[idx, 0])\n",
        "        image = io.imread(img_name)\n",
        "        label = self.lable_frame.iloc[idx, 1]\n",
        "        label = np.asarray(label)\n",
        "        label = label.astype('float').reshape(1)\n",
        "\n",
        "        sample = {'image': image, 'label': label}\n",
        "\n",
        "        if self.transform:\n",
        "            sample = self.transform(sample)\n",
        "\n",
        "        return sample"
      ],
      "id": "416dbda5-58e6-4067-8fcf-08c1b1240701",
      "execution_count": null,
      "outputs": []
    },
    {
      "cell_type": "code",
      "metadata": {
        "id": "c5133625-49e7-4a17-a69d-ac08ccf4b9df"
      },
      "source": [
        "class ToTensor(object):\n",
        "    \"\"\"Convert ndarrays in sample to Tensors.\"\"\"\n",
        "    def __call__(self, sample):\n",
        "        image, label = sample['image'], sample['label']\n",
        "        # swap color axis because\n",
        "        # numpy image: H x W x C\n",
        "        # torch image: C x H x W\n",
        "        image = image.transpose((2, 0, 1))\n",
        "        return {'image': torch.FloatTensor(image),\n",
        "                'label': torch.FloatTensor(label)}\n"
      ],
      "id": "c5133625-49e7-4a17-a69d-ac08ccf4b9df",
      "execution_count": null,
      "outputs": []
    },
    {
      "cell_type": "code",
      "metadata": {
        "id": "6d776afd-3713-44f5-b7b5-f49c6601b5ba"
      },
      "source": [
        "transformed_dataset = Dataset(csv_file='/content/drive/MyDrive/Second/LabelTrain2.csv',\n",
        "                        root_dir=r'/content/drive/MyDrive/Second/Train',\n",
        "                        transform=ToTensor())\n",
        "# for i in range(len(transformed_dataset)):\n",
        "#     sample = transformed_dataset[i]\n",
        "\n",
        "#     print(i, sample['image'].size(), sample['label'].size())\n",
        "\n",
        "#     if i == 3:\n",
        "#         break"
      ],
      "id": "6d776afd-3713-44f5-b7b5-f49c6601b5ba",
      "execution_count": null,
      "outputs": []
    },
    {
      "cell_type": "code",
      "metadata": {
        "id": "b1975c99-d2d3-4f9c-a742-3e09e3962be0"
      },
      "source": [
        "transformedval_dataset = Dataset(csv_file='/content/drive/MyDrive/Second/LabelVal2.csv',\n",
        "                        root_dir=r'/content/drive/MyDrive/Second/val',\n",
        "                        transform=ToTensor())\n",
        "# for i in range(len(transformedval_dataset)):\n",
        "#     sample = transformedval_dataset[i]\n",
        "\n",
        "#     print(i, sample['image'].size(), sample['label'].size())\n",
        "\n",
        "#     if i == 3:\n",
        "#         break\n",
        "# print(len(transformedval_dataset))"
      ],
      "id": "b1975c99-d2d3-4f9c-a742-3e09e3962be0",
      "execution_count": null,
      "outputs": []
    },
    {
      "cell_type": "code",
      "metadata": {
        "id": "6ab7bdb7-9f3c-4d8e-abe2-25b1ea60d8e1"
      },
      "source": [
        "trainset = transformed_dataset\n",
        "trainloader = DataLoader(trainset , batch_size=4,\n",
        "                        shuffle=True, num_workers=2)\n",
        "testset = transformedval_dataset\n",
        "testloader = DataLoader(testset , batch_size=4,\n",
        "                        shuffle=False, num_workers=2)\n",
        "classes = ('small', 'big')\n",
        "\n"
      ],
      "id": "6ab7bdb7-9f3c-4d8e-abe2-25b1ea60d8e1",
      "execution_count": null,
      "outputs": []
    },
    {
      "cell_type": "code",
      "metadata": {
        "colab": {
          "base_uri": "https://localhost:8080/"
        },
        "id": "ZnD63JuXY3Oe",
        "outputId": "425e40ad-76c9-42ff-abbd-2d2b053bf448"
      },
      "source": [
        "trainloader.dataset.__getitem__(0)"
      ],
      "id": "ZnD63JuXY3Oe",
      "execution_count": null,
      "outputs": [
        {
          "output_type": "execute_result",
          "data": {
            "text/plain": [
              "{'image': tensor([[[143.,  45.,  47.,  ..., 198., 200., 198.],\n",
              "          [ 61.,  53.,  50.,  ..., 198., 198., 204.],\n",
              "          [ 48.,  39.,  44.,  ..., 207., 203., 199.],\n",
              "          ...,\n",
              "          [131., 110., 147.,  ..., 190., 183., 142.],\n",
              "          [ 78.,  58., 103.,  ..., 185., 183., 151.],\n",
              "          [ 67.,  61.,  77.,  ..., 192., 192., 190.]],\n",
              " \n",
              "         [[144.,  44.,  46.,  ..., 199., 201., 199.],\n",
              "          [ 60.,  52.,  49.,  ..., 198., 198., 203.],\n",
              "          [ 47.,  38.,  40.,  ..., 207., 203., 199.],\n",
              "          ...,\n",
              "          [ 67.,  44.,  75.,  ..., 199., 192., 150.],\n",
              "          [ 33.,   8.,  45.,  ..., 195., 192., 160.],\n",
              "          [ 37.,  23.,  29.,  ..., 202., 201., 199.]],\n",
              " \n",
              "         [[139.,  40.,  42.,  ..., 204., 206., 204.],\n",
              "          [ 56.,  48.,  45.,  ..., 200., 200., 208.],\n",
              "          [ 43.,  34.,  37.,  ..., 209., 205., 201.],\n",
              "          ...,\n",
              "          [ 39.,  20.,  60.,  ..., 214., 201., 153.],\n",
              "          [  4.,   0.,  25.,  ..., 205., 197., 159.],\n",
              "          [  9.,   0.,   9.,  ..., 212., 206., 198.]]]), 'label': tensor([0.])}"
            ]
          },
          "metadata": {
            "tags": []
          },
          "execution_count": 10
        }
      ]
    },
    {
      "cell_type": "code",
      "metadata": {
        "colab": {
          "base_uri": "https://localhost:8080/"
        },
        "id": "6oSW8WOoiXc5",
        "outputId": "03d51c8d-2f2b-452c-8202-1f9cc9d26e86"
      },
      "source": [
        "\n",
        "it = iter(trainloader)\n",
        "data = next(it)\n",
        "inputs, labels = data['image'], data['label']\n",
        "print(inputs.shape)\n",
        "print(labels.shape)"
      ],
      "id": "6oSW8WOoiXc5",
      "execution_count": null,
      "outputs": [
        {
          "output_type": "stream",
          "text": [
            "torch.Size([4, 3, 120, 120])\n",
            "torch.Size([4, 1])\n"
          ],
          "name": "stdout"
        }
      ]
    },
    {
      "cell_type": "code",
      "metadata": {
        "id": "5df91707-6bbe-44a1-b2d5-b154230dc457",
        "colab": {
          "base_uri": "https://localhost:8080/"
        },
        "outputId": "82611ff3-6c27-4f7c-b1a0-da3b1292b421"
      },
      "source": [
        "if torch.cuda.is_available():\n",
        "    print('using GPU, all good')\n",
        "    device = torch.device('cuda:0')\n",
        "else:\n",
        "    print('using CPU, if you are in colab, please change the '\n",
        "          'setting in /changeRuntimeType to GPU')\n",
        "    device = torch.device('cpu')"
      ],
      "id": "5df91707-6bbe-44a1-b2d5-b154230dc457",
      "execution_count": null,
      "outputs": [
        {
          "output_type": "stream",
          "text": [
            "using GPU, all good\n"
          ],
          "name": "stdout"
        }
      ]
    },
    {
      "cell_type": "code",
      "metadata": {
        "id": "WLYaUmUN1F4R"
      },
      "source": [
        "# class ZBLModule(nn.Module):\n",
        "#     def __init__(self):\n",
        "#         super().__init__()\n",
        "#         self.norm1 = nn.BatchNorm2d(3)\n",
        "#         self.conv1 = nn.Conv2d(3, 128, 3)\n",
        "#         self.norm2 = nn.BatchNorm2d(128)\n",
        "#         self.conv2 = nn.Conv2d(128, 256, 3)\n",
        "#         self.pool = nn.MaxPool2d(2)\n",
        "#         self.norm3 = nn.BatchNorm2d(256)\n",
        "#         self.conv3 = nn.Conv2d(256, 16, 3)\n",
        "#         self.pool = nn.MaxPool2d(2)\n",
        "#         self.fc3 = nn.Linear(12544, 1280)\n",
        "#         self.fc4 = nn.Linear(1280, 64)\n",
        "#         self.fc5 = nn.Linear(64, 2)\n",
        "#         self.flatten = nn.Flatten()\n",
        "#         self.softmax = nn.Softmax(dim =1)\n",
        "#         self.ReLU = nn.ReLU()\n",
        "\n",
        "#     def forward(self, x):\n",
        "#         # x shape (B, 3, 32, 32)\n",
        "#         x = self.norm1(x)\n",
        "#         x = self.conv1(x) # (B, 32, 120, 120)\n",
        "#         x = self.ReLU(x)\n",
        "#         x = self.norm2(x)\n",
        "#         x = self.conv2(x) # (B, 64, 60, 60)\n",
        "#         x = self.ReLU(x)\n",
        "#         x = self.pool(x)\n",
        "#         x = self.norm3(x)\n",
        "#         x = self.conv3(x) # (B, 64, 60, 60)\n",
        "#         x = self.ReLU(x)\n",
        "#         x = self.pool(x) # (B, 64, 30, 30)\n",
        "#         x = self.flatten(x)\n",
        "#         x = self.fc3(x)\n",
        "#         x = self.ReLU(x)\n",
        "#         x = self.fc4(x)\n",
        "#         x = self.ReLU(x)\n",
        "#         x = self.fc5(x)\n",
        "#         return x"
      ],
      "id": "WLYaUmUN1F4R",
      "execution_count": null,
      "outputs": []
    },
    {
      "cell_type": "code",
      "metadata": {
        "id": "HIqsD-FDsmuD"
      },
      "source": [
        "class yoyoBSModule(nn.Module):\n",
        "    def __init__(self):\n",
        "        super().__init__()\n",
        "        self.norm1 = nn.BatchNorm2d(3)\n",
        "        self.conv1 = nn.Conv2d(3, 32, 3)\n",
        "        self.norm2 = nn.BatchNorm2d(32)\n",
        "        self.conv2 = nn.Conv2d(32, 64, 5)\n",
        "        self.pool = nn.MaxPool2d(2)\n",
        "        self.norm3 = nn.BatchNorm2d(64)\n",
        "        self.conv3 = nn.Conv2d(64, 128, 3)\n",
        "        self.norm4 = nn.BatchNorm2d(128)\n",
        "        self.conv4 = nn.Conv2d(128, 64, 3)\n",
        "        self.norm5 = nn.BatchNorm2d(64)\n",
        "        self.conv5 = nn.Conv2d(64, 32, 3)\n",
        "        self.norm6 = nn.BatchNorm2d(32)\n",
        "        self.fc6 = nn.Linear(3872, 2)\n",
        "        self.flatten = nn.Flatten()\n",
        "        self.softmax = nn.Softmax(dim =1)\n",
        "        self.ReLU = nn.ReLU()\n",
        "\n",
        "    def forward(self, x):\n",
        "        x = self.conv1(x) \n",
        "        x = self.norm2(x)\n",
        "        x = self.ReLU(x)\n",
        "        x = self.conv2(x) \n",
        "        x = self.norm3(x)\n",
        "        x = self.ReLU(x)\n",
        "        x = self.pool(x) \n",
        "        x = self.conv3(x)\n",
        "        x = self.norm4(x)\n",
        "        x = self.ReLU(x)\n",
        "        x = self.pool(x)\n",
        "        x = self.conv4(x)\n",
        "        x = self.norm5(x)\n",
        "        x = self.ReLU(x)\n",
        "        x = self.conv5(x)\n",
        "        x = self.norm6(x)\n",
        "        x = self.ReLU(x)\n",
        "        x = self.pool(x)\n",
        "        x = self.flatten(x)\n",
        "        x = self.fc6(x)\n",
        "        return x"
      ],
      "id": "HIqsD-FDsmuD",
      "execution_count": null,
      "outputs": []
    },
    {
      "cell_type": "code",
      "metadata": {
        "id": "1db00d26-7c5a-4b79-bf78-913859ca598e"
      },
      "source": [
        "from tqdm import tqdm\n",
        "\n",
        "def train(args, model, trainloader, testloader):\n",
        "    print(f'now training with {args}')\n",
        "    model = model.to(device)\n",
        "    optimizer = optim.Adam(model.parameters(), lr=args['learning_rate'])\n",
        "    weight=torch.tensor([1.0000,2.5529])\n",
        "    criterion = nn.CrossEntropyLoss(weight.to(device))\n",
        "    df = pd.DataFrame()\n",
        "    last_time = datetime.now()\n",
        "    for epoch in range(args['total_epoch']):\n",
        "        training_loss = test_loss = 0\n",
        "        training_acc = test_acc = 0\n",
        "        model.train()\n",
        "        for i, data in enumerate(tqdm(trainloader), 0):\n",
        "            inputs, labels = data['image'], data['label']\n",
        "            # move the tensors to gpu if we are using it\n",
        "            # data loading happens in cpu so the tensors were there initially\n",
        "            inputs, labels = inputs.to(device), labels.to(device=device, dtype=torch.long)\n",
        "            optimizer.zero_grad()\n",
        "            outputs = model(inputs)\n",
        "            loss = criterion(outputs, labels.view(-1))\n",
        "            loss.backward()\n",
        "            optimizer.step()\n",
        "            # calculate stats\n",
        "            training_loss += loss.item()\n",
        "            _, prediceted = torch.max(outputs.data, 1)\n",
        "            labels = labels.flatten()\n",
        "            training_acc += (prediceted==labels).sum().item()\n",
        "\n",
        "        # evaluate the model on validation set\n",
        "\n",
        "        with torch.no_grad():\n",
        "            model.eval()\n",
        "            for i, data in enumerate(tqdm(testloader), 0):\n",
        "                inputs, labels = data['image'], data['label']\n",
        "                inputs, labels = inputs.to(device), labels.to(device=device, dtype=torch.long)\n",
        "                outputs = model(inputs)\n",
        "                loss = criterion(outputs, labels.view(-1))\n",
        "                # calculate stats\n",
        "                test_loss += loss.item()\n",
        "                _, prediceted = torch.max(outputs.data, 1)\n",
        "                labels = labels.flatten()\n",
        "                test_acc += (prediceted == labels).sum().item()\n",
        "        training_loss /= len(trainloader)\n",
        "        training_acc /= len(trainset)\n",
        "        test_loss /= len(testloader)\n",
        "        test_acc /= len(testset)\n",
        "        data = {\n",
        "            'epoch':epoch,\n",
        "            'training_loss': training_loss,\n",
        "            'training_acc': training_acc,\n",
        "            'test_loss': test_loss,\n",
        "            'test_acc':test_acc,\n",
        "            'time': (datetime.now()-last_time).total_seconds()\n",
        "        }\n",
        "        print(data)\n",
        "        df = df.append(data, ignore_index=True)\n",
        "        last_time = datetime.now()\n",
        "    return model, df\n",
        "\n"
      ],
      "id": "1db00d26-7c5a-4b79-bf78-913859ca598e",
      "execution_count": null,
      "outputs": []
    },
    {
      "cell_type": "code",
      "metadata": {
        "id": "SGPTBjfDaIx0",
        "colab": {
          "base_uri": "https://localhost:8080/",
          "height": 533
        },
        "outputId": "016338e7-341f-4ad9-a629-e8cac751d1dd"
      },
      "source": [
        "args = {\n",
        "    'learning_rate': 1e-5,\n",
        "    'total_epoch': 3,\n",
        "    'l2': 0,\n",
        "}\n",
        "\n",
        "# run it!\n",
        "model = yoyoBSModule()\n",
        "\n",
        "model, data = train(args, model, trainloader, testloader)\n",
        "\n",
        "data.plot('epoch', ['training_loss', 'test_loss'])\n",
        "\n"
      ],
      "id": "SGPTBjfDaIx0",
      "execution_count": null,
      "outputs": [
        {
          "output_type": "stream",
          "text": [
            "now training with {'learning_rate': 1e-05, 'total_epoch': 3, 'l2': 0}\n"
          ],
          "name": "stdout"
        },
        {
          "output_type": "stream",
          "text": [
            "100%|██████████| 2023/2023 [00:24<00:00, 84.17it/s]\n",
            "100%|██████████| 759/759 [00:06<00:00, 117.88it/s]\n",
            "  0%|          | 0/2023 [00:00<?, ?it/s]"
          ],
          "name": "stderr"
        },
        {
          "output_type": "stream",
          "text": [
            "{'epoch': 0, 'training_loss': 0.6604898255456514, 'training_acc': 0.6644826307330943, 'test_loss': 0.6644852719366628, 'test_acc': 0.6191103789126854, 'time': 30.482191}\n"
          ],
          "name": "stdout"
        },
        {
          "output_type": "stream",
          "text": [
            "100%|██████████| 2023/2023 [00:24<00:00, 82.86it/s]\n",
            "100%|██████████| 759/759 [00:06<00:00, 108.98it/s]\n",
            "  0%|          | 0/2023 [00:00<?, ?it/s]"
          ],
          "name": "stderr"
        },
        {
          "output_type": "stream",
          "text": [
            "{'epoch': 1, 'training_loss': 0.5996714822369758, 'training_acc': 0.7238224749660032, 'test_loss': 0.6368884200203246, 'test_acc': 0.6540362438220758, 'time': 31.39175}\n"
          ],
          "name": "stdout"
        },
        {
          "output_type": "stream",
          "text": [
            "100%|██████████| 2023/2023 [00:24<00:00, 82.56it/s]\n",
            "100%|██████████| 759/759 [00:06<00:00, 109.22it/s]\n"
          ],
          "name": "stderr"
        },
        {
          "output_type": "stream",
          "text": [
            "{'epoch': 2, 'training_loss': 0.5565170679817798, 'training_acc': 0.7602917542341452, 'test_loss': 0.5460116628248229, 'test_acc': 0.7654036243822075, 'time': 31.465969}\n"
          ],
          "name": "stdout"
        },
        {
          "output_type": "execute_result",
          "data": {
            "text/plain": [
              "<matplotlib.axes._subplots.AxesSubplot at 0x7f8b7406ff90>"
            ]
          },
          "metadata": {
            "tags": []
          },
          "execution_count": 17
        },
        {
          "output_type": "display_data",
          "data": {
            "image/png": "[encoded data removed]",
            "text/plain": [
              "<Figure size 432x288 with 1 Axes>"
            ]
          },
          "metadata": {
            "tags": [],
            "needs_background": "light"
          }
        }
      ]
    },
    {
      "cell_type": "code",
      "metadata": {
        "id": "-aPvz63_0h0T"
      },
      "source": [
        "torch.save(model, '/content/drive/MyDrive/Second/yoyomodel.pt')"
      ],
      "id": "-aPvz63_0h0T",
      "execution_count": null,
      "outputs": []
    },
    {
      "cell_type": "code",
      "metadata": {
        "id": "YF-Dnjcpsxwd"
      },
      "source": [
        "args = {\n",
        "    'learning_rate': 1e-5,\n",
        "    'total_epoch': 15,\n",
        "    'l2': 0,\n",
        "}\n",
        "\n",
        "# run it!\n",
        "model2 = yoyoBSModule()\n",
        "\n",
        "model2, data = train(args, model2, trainloader, testloader)\n",
        "\n",
        "data.plot('epoch', ['training_loss', 'test_loss'])\n",
        "\n"
      ],
      "id": "YF-Dnjcpsxwd",
      "execution_count": null,
      "outputs": []
    },
    {
      "cell_type": "code",
      "metadata": {
        "id": "004cbb57-17f9-4b28-ab6e-4c698ee812dc"
      },
      "source": [
        "!nvidia-smi"
      ],
      "id": "004cbb57-17f9-4b28-ab6e-4c698ee812dc",
      "execution_count": null,
      "outputs": []
    }
  ]
}